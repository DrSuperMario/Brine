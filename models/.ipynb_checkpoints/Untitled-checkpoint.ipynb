{
 "cells": [
  {
   "cell_type": "code",
   "execution_count": 1,
   "metadata": {},
   "outputs": [],
   "source": [
    "import requests\n",
    "from datetime import datetime as dt\n",
    "import pandas as pd\n",
    "from pandas import json_normalize as jsn\n",
    "import time"
   ]
  },
  {
   "cell_type": "code",
   "execution_count": 14,
   "metadata": {},
   "outputs": [],
   "source": [
    "def make_connection():\n",
    "    \n",
    "    end_connect = False\n",
    "    \n",
    "    while True:\n",
    "\n",
    "        try:\n",
    "            \n",
    "            time.sleep(1)\n",
    "            data = requests.get(\"http://127.0.0.1:5000/markets\")\n",
    "            \n",
    "            if data != None:\n",
    "                jsonify = data.json()\n",
    "                df = pd.concat([jsn(jsonify['markets'][x]['Signals']) for x in range(len(jsonify['markets']))])   \n",
    "                df = df.set_index(pd.to_datetime(df['date'])).sort_index(ascending=True)\n",
    "                df.index = df.index.to_series().apply(lambda x: dt.strftime(x, '%H.%M.%S - %m.%d.%Y'))\n",
    "                df = df.drop('date', axis=1)\n",
    "                return df, end_connect\n",
    "            \n",
    "        except:\n",
    "            \n",
    "            time.sleep(1)\n",
    "            print('Connection not made')"
   ]
  },
  {
   "cell_type": "code",
   "execution_count": 16,
   "metadata": {},
   "outputs": [
    {
     "name": "stdout",
     "output_type": "stream",
     "text": [
      "Connection not made\n",
      "Connection not made\n",
      "Connection not made\n"
     ]
    },
    {
     "data": {
      "text/plain": [
       "(                      signal_name  opinion change  market_id\n",
       " date                                                        \n",
       " 17.47.53 - 06.18.2020        AAPL   15.99%    3.5          1\n",
       " 17.48.07 - 06.18.2020        Ford  125.99%    3.5          1\n",
       " 17.48.18 - 06.18.2020          GM    5.99%    1.5          1\n",
       " 17.48.32 - 06.18.2020         BTC   52.99%    1.5          2\n",
       " 17.48.46 - 06.18.2020         ETH      59%    2.5          2\n",
       " 17.48.58 - 06.18.2020         OSB    5119%    2.5          2\n",
       " 17.49.12 - 06.18.2020         USD      19%    0.5          3\n",
       " 17.49.21 - 06.18.2020         RUB     139%    0.5          3\n",
       " 17.49.36 - 06.18.2020         JPN    1039%    8.5          3\n",
       " 15.47.44 - 06.26.2020       SIGMA    1.99%    2.5          1,\n",
       " False)"
      ]
     },
     "execution_count": 16,
     "metadata": {},
     "output_type": "execute_result"
    }
   ],
   "source": [
    "make_connection()"
   ]
  },
  {
   "cell_type": "code",
   "execution_count": null,
   "metadata": {},
   "outputs": [],
   "source": []
  },
  {
   "cell_type": "code",
   "execution_count": 6,
   "metadata": {},
   "outputs": [
    {
     "data": {
      "text/plain": [
       "dict"
      ]
     },
     "execution_count": 6,
     "metadata": {},
     "output_type": "execute_result"
    }
   ],
   "source": []
  },
  {
   "cell_type": "code",
   "execution_count": null,
   "metadata": {},
   "outputs": [],
   "source": []
  }
 ],
 "metadata": {
  "kernelspec": {
   "display_name": "Python 3",
   "language": "python",
   "name": "python3"
  },
  "language_info": {
   "codemirror_mode": {
    "name": "ipython",
    "version": 3
   },
   "file_extension": ".py",
   "mimetype": "text/x-python",
   "name": "python",
   "nbconvert_exporter": "python",
   "pygments_lexer": "ipython3",
   "version": "3.7.6"
  }
 },
 "nbformat": 4,
 "nbformat_minor": 4
}
